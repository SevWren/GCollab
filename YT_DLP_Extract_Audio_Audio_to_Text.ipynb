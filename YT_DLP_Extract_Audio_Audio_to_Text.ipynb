{
  "nbformat": 4,
  "nbformat_minor": 0,
  "metadata": {
    "colab": {
      "provenance": [],
      "collapsed_sections": [
        "NJk_iAnfHFhP",
        "6ur35OEmQufp",
        "rUZyr0KmQ0QH"
      ],
      "toc_visible": true,
      "authorship_tag": "ABX9TyNzfhrS60MJ6iVKr6j4PBAj",
      "include_colab_link": true
    },
    "kernelspec": {
      "name": "python3",
      "display_name": "Python 3"
    },
    "language_info": {
      "name": "python"
    }
  },
  "cells": [
    {
      "cell_type": "markdown",
      "metadata": {
        "id": "view-in-github",
        "colab_type": "text"
      },
      "source": [
        "<a href=\"https://colab.research.google.com/github/SevWren/GCollab/blob/main/YT_DLP_Extract_Audio_Audio_to_Text.ipynb\" target=\"_parent\"><img src=\"https://colab.research.google.com/assets/colab-badge.svg\" alt=\"Open In Colab\"/></a>"
      ]
    },
    {
      "cell_type": "markdown",
      "source": [
        "#Intro\n",
        "    "
      ],
      "metadata": {
        "id": "sAD-eGzbCQx3"
      }
    },
    {
      "cell_type": "markdown",
      "source": [
        "yt-dlp from within colab to local disk\n",
        "then output to gdrive, mega, onedrive?"
      ],
      "metadata": {
        "id": "8X2DRtt5CQuP"
      }
    },
    {
      "cell_type": "markdown",
      "source": [],
      "metadata": {
        "id": "eME76fquCQrX"
      }
    },
    {
      "cell_type": "markdown",
      "source": [],
      "metadata": {
        "id": "zvOTox90CQnP"
      }
    },
    {
      "cell_type": "markdown",
      "source": [],
      "metadata": {
        "id": "D6_Rkv-bCQe5"
      }
    },
    {
      "cell_type": "code",
      "source": [
        "# Install yt-dlp (quietly to suppress verbose output)\n",
        "!pip install yt-dlp\n",
        "print(\"PiP Complete\")"
      ],
      "metadata": {
        "colab": {
          "base_uri": "https://localhost:8080/"
        },
        "id": "R0c2-H9xCnAo",
        "outputId": "b567f39f-93ea-447d-d0e4-281d6bf9a162"
      },
      "execution_count": 3,
      "outputs": [
        {
          "output_type": "stream",
          "name": "stdout",
          "text": [
            "Requirement already satisfied: yt-dlp in /usr/local/lib/python3.10/dist-packages (2024.12.23)\n",
            "PiP Complete\n"
          ]
        }
      ]
    },
    {
      "cell_type": "code",
      "source": [
        "!apt-get install -y ffmpeg\n"
      ],
      "metadata": {
        "colab": {
          "base_uri": "https://localhost:8080/"
        },
        "collapsed": true,
        "id": "6bG11MuuCm8P",
        "outputId": "7c55d7df-3d60-482b-c144-2b992fb0118e"
      },
      "execution_count": 4,
      "outputs": [
        {
          "output_type": "stream",
          "name": "stdout",
          "text": [
            "Reading package lists... Done\n",
            "Building dependency tree... Done\n",
            "Reading state information... Done\n",
            "ffmpeg is already the newest version (7:4.4.2-0ubuntu0.22.04.1).\n",
            "0 upgraded, 0 newly installed, 0 to remove and 49 not upgraded.\n"
          ]
        }
      ]
    },
    {
      "cell_type": "code",
      "source": [],
      "metadata": {
        "id": "ul3ug_lRCm2W"
      },
      "execution_count": null,
      "outputs": []
    },
    {
      "cell_type": "code",
      "source": [],
      "metadata": {
        "id": "LwIjR3aACmsv"
      },
      "execution_count": null,
      "outputs": []
    },
    {
      "cell_type": "markdown",
      "source": [
        "##Download With YT-DLP\n",
        "saves to file `downloaded_video.mp4`\n"
      ],
      "metadata": {
        "id": "IrnphEtjHIdZ"
      }
    },
    {
      "cell_type": "code",
      "execution_count": null,
      "metadata": {
        "id": "9pRPIkCYCPpD"
      },
      "outputs": [],
      "source": [
        "# Import necessary libraries\n",
        "from google.colab import files\n",
        "\n",
        "# Function to download a video using yt-dlp\n",
        "def download_video(url, output_path=\"downloaded_video\"):\n",
        "    \"\"\"\n",
        "    Downloads a video from a URL using yt-dlp.\n",
        "\n",
        "    Args:\n",
        "        url (str): The URL of the video to download.\n",
        "        output_path (str): The base name of the output file.\n",
        "    \"\"\"\n",
        "    from yt_dlp import YoutubeDL\n",
        "\n",
        "    # Set options for yt-dlp\n",
        "    ydl_opts = {\n",
        "        'outtmpl': f'{output_path}.%(ext)s',  # Output file template\n",
        "        'format': 'bestvideo+bestaudio/best', # Download best quality video and audio\n",
        "        'merge_output_format': 'mp4'         # Merge video and audio into mp4\n",
        "    }\n",
        "\n",
        "    # Use yt-dlp to download the video\n",
        "    with YoutubeDL(ydl_opts) as ydl:\n",
        "        ydl.download([url])\n",
        "\n",
        "# Example Usage:\n",
        "video_url = input(\"Enter the video URL: \")  # Prompt user to input the video URL\n",
        "download_video(video_url)                  # Call the function to download the video\n",
        "\n",
        "# Download the file to your local machine\n",
        "#downloaded_file = \"downloaded_video.mp4\"\n",
        "#files.download(downloaded_file)\n"
      ]
    },
    {
      "cell_type": "markdown",
      "source": [
        "##ConvertVideoToAudio"
      ],
      "metadata": {
        "id": "NJk_iAnfHFhP"
      }
    },
    {
      "cell_type": "code",
      "source": [
        "# Define file paths\n",
        "input_video = \"downloaded_video.mp4\"   # Input video file\n",
        "output_audio = \"output_audio.mp3\"     # Desired output audio file\n",
        "\n",
        "# Use FFmpeg to extract audio from the video\n",
        "!ffmpeg -i \"{input_video}\" -vn -acodec libmp3lame -q:a 2 \"{output_audio}\"\n",
        "\n",
        "# Download the audio file to your local machine\n",
        "#from google.colab import files\n",
        "#files.download(output_audio)"
      ],
      "metadata": {
        "colab": {
          "base_uri": "https://localhost:8080/",
          "height": 526
        },
        "collapsed": true,
        "id": "83GujG3JDuIa",
        "outputId": "267f6ac8-31bb-4b74-b98b-9c165ca27ff1"
      },
      "execution_count": 33,
      "outputs": [
        {
          "output_type": "stream",
          "name": "stdout",
          "text": [
            "ffmpeg version 4.4.2-0ubuntu0.22.04.1 Copyright (c) 2000-2021 the FFmpeg developers\n",
            "  built with gcc 11 (Ubuntu 11.2.0-19ubuntu1)\n",
            "  configuration: --prefix=/usr --extra-version=0ubuntu0.22.04.1 --toolchain=hardened --libdir=/usr/lib/x86_64-linux-gnu --incdir=/usr/include/x86_64-linux-gnu --arch=amd64 --enable-gpl --disable-stripping --enable-gnutls --enable-ladspa --enable-libaom --enable-libass --enable-libbluray --enable-libbs2b --enable-libcaca --enable-libcdio --enable-libcodec2 --enable-libdav1d --enable-libflite --enable-libfontconfig --enable-libfreetype --enable-libfribidi --enable-libgme --enable-libgsm --enable-libjack --enable-libmp3lame --enable-libmysofa --enable-libopenjpeg --enable-libopenmpt --enable-libopus --enable-libpulse --enable-librabbitmq --enable-librubberband --enable-libshine --enable-libsnappy --enable-libsoxr --enable-libspeex --enable-libsrt --enable-libssh --enable-libtheora --enable-libtwolame --enable-libvidstab --enable-libvorbis --enable-libvpx --enable-libwebp --enable-libx265 --enable-libxml2 --enable-libxvid --enable-libzimg --enable-libzmq --enable-libzvbi --enable-lv2 --enable-omx --enable-openal --enable-opencl --enable-opengl --enable-sdl2 --enable-pocketsphinx --enable-librsvg --enable-libmfx --enable-libdc1394 --enable-libdrm --enable-libiec61883 --enable-chromaprint --enable-frei0r --enable-libx264 --enable-shared\n",
            "  libavutil      56. 70.100 / 56. 70.100\n",
            "  libavcodec     58.134.100 / 58.134.100\n",
            "  libavformat    58. 76.100 / 58. 76.100\n",
            "  libavdevice    58. 13.100 / 58. 13.100\n",
            "  libavfilter     7.110.100 /  7.110.100\n",
            "  libswscale      5.  9.100 /  5.  9.100\n",
            "  libswresample   3.  9.100 /  3.  9.100\n",
            "  libpostproc    55.  9.100 / 55.  9.100\n",
            "\u001b[1;31mdownloaded_video.mp4: No such file or directory\n",
            "\u001b[0m"
          ]
        },
        {
          "output_type": "error",
          "ename": "FileNotFoundError",
          "evalue": "Cannot find file: output_audio.mp3",
          "traceback": [
            "\u001b[0;31m---------------------------------------------------------------------------\u001b[0m",
            "\u001b[0;31mFileNotFoundError\u001b[0m                         Traceback (most recent call last)",
            "\u001b[0;32m<ipython-input-33-936c752640d2>\u001b[0m in \u001b[0;36m<cell line: 10>\u001b[0;34m()\u001b[0m\n\u001b[1;32m      8\u001b[0m \u001b[0;31m# Download the audio file to your local machine\u001b[0m\u001b[0;34m\u001b[0m\u001b[0;34m\u001b[0m\u001b[0m\n\u001b[1;32m      9\u001b[0m \u001b[0;32mfrom\u001b[0m \u001b[0mgoogle\u001b[0m\u001b[0;34m.\u001b[0m\u001b[0mcolab\u001b[0m \u001b[0;32mimport\u001b[0m \u001b[0mfiles\u001b[0m\u001b[0;34m\u001b[0m\u001b[0;34m\u001b[0m\u001b[0m\n\u001b[0;32m---> 10\u001b[0;31m \u001b[0mfiles\u001b[0m\u001b[0;34m.\u001b[0m\u001b[0mdownload\u001b[0m\u001b[0;34m(\u001b[0m\u001b[0moutput_audio\u001b[0m\u001b[0;34m)\u001b[0m\u001b[0;34m\u001b[0m\u001b[0;34m\u001b[0m\u001b[0m\n\u001b[0m",
            "\u001b[0;32m/usr/local/lib/python3.10/dist-packages/google/colab/files.py\u001b[0m in \u001b[0;36mdownload\u001b[0;34m(filename)\u001b[0m\n\u001b[1;32m    231\u001b[0m   \u001b[0;32mif\u001b[0m \u001b[0;32mnot\u001b[0m \u001b[0m_os\u001b[0m\u001b[0;34m.\u001b[0m\u001b[0mpath\u001b[0m\u001b[0;34m.\u001b[0m\u001b[0mexists\u001b[0m\u001b[0;34m(\u001b[0m\u001b[0mfilename\u001b[0m\u001b[0;34m)\u001b[0m\u001b[0;34m:\u001b[0m\u001b[0;34m\u001b[0m\u001b[0;34m\u001b[0m\u001b[0m\n\u001b[1;32m    232\u001b[0m     \u001b[0mmsg\u001b[0m \u001b[0;34m=\u001b[0m \u001b[0;34m'Cannot find file: {}'\u001b[0m\u001b[0;34m.\u001b[0m\u001b[0mformat\u001b[0m\u001b[0;34m(\u001b[0m\u001b[0mfilename\u001b[0m\u001b[0;34m)\u001b[0m\u001b[0;34m\u001b[0m\u001b[0;34m\u001b[0m\u001b[0m\n\u001b[0;32m--> 233\u001b[0;31m     \u001b[0;32mraise\u001b[0m \u001b[0mFileNotFoundError\u001b[0m\u001b[0;34m(\u001b[0m\u001b[0mmsg\u001b[0m\u001b[0;34m)\u001b[0m  \u001b[0;31m# pylint: disable=undefined-variable\u001b[0m\u001b[0;34m\u001b[0m\u001b[0;34m\u001b[0m\u001b[0m\n\u001b[0m\u001b[1;32m    234\u001b[0m \u001b[0;34m\u001b[0m\u001b[0m\n\u001b[1;32m    235\u001b[0m   \u001b[0mcomm_manager\u001b[0m \u001b[0;34m=\u001b[0m \u001b[0m_IPython\u001b[0m\u001b[0;34m.\u001b[0m\u001b[0mget_ipython\u001b[0m\u001b[0;34m(\u001b[0m\u001b[0;34m)\u001b[0m\u001b[0;34m.\u001b[0m\u001b[0mkernel\u001b[0m\u001b[0;34m.\u001b[0m\u001b[0mcomm_manager\u001b[0m\u001b[0;34m\u001b[0m\u001b[0;34m\u001b[0m\u001b[0m\n",
            "\u001b[0;31mFileNotFoundError\u001b[0m: Cannot find file: output_audio.mp3"
          ]
        }
      ]
    },
    {
      "cell_type": "code",
      "source": [
        "# Play the audio file from prior code in Colab\n",
        "from IPython.display import Audio\n",
        "Audio(output_audio)\n",
        "\n",
        "# Play a specific audio file only\n",
        "#output_audio = \"output_audio.mp3\"\n",
        "#Audio(output_audio, autoplay=True)"
      ],
      "metadata": {
        "id": "sLpa6XRQEcnR"
      },
      "execution_count": null,
      "outputs": []
    },
    {
      "cell_type": "markdown",
      "source": [
        "###PlayingAudioFiles"
      ],
      "metadata": {
        "id": "DkCl-QB3HAX_"
      }
    },
    {
      "cell_type": "code",
      "source": [
        "from IPython.display import Audio\n",
        "import os\n",
        "\n",
        "# List all audio files in the current directory\n",
        "audio_files = [f for f in os.listdir() if f.endswith(('.mp3', '.wav'))]\n",
        "\n",
        "# Display available audio files\n",
        "print(\"Available audio files:\")\n",
        "for i, audio_file in enumerate(audio_files):\n",
        "    print(f\"{i + 1}: {audio_file}\")\n",
        "\n",
        "# Let the user choose a file to play\n",
        "choice = int(input(\"Enter the number of the audio file you want to play: \")) - 1\n",
        "\n",
        "# Play the selected audio file\n",
        "Audio(audio_files[choice], autoplay=True)\n"
      ],
      "metadata": {
        "id": "w6XLXNgqFgz4"
      },
      "execution_count": null,
      "outputs": []
    },
    {
      "cell_type": "code",
      "source": [
        "from IPython.display import HTML\n",
        "\n",
        "# Define the path to the downloaded video\n",
        "video_path = '/content/downloaded_video.mp4'\n",
        "\n",
        "# Embed and play the video in Colab\n",
        "HTML(f\"\"\"\n",
        "<video width=\"640\" height=\"360\" controls>\n",
        "  <source src=\"{video_path}\" type=\"video/mp4\">\n",
        "  Your browser does not support the video tag.\n",
        "</video>\n",
        "\"\"\")\n"
      ],
      "metadata": {
        "colab": {
          "resources": {
            "http://localhost:8080/content/downloaded_video.mp4": {
              "data": "",
              "ok": false,
              "headers": [
                [
                  "content-length",
                  "0"
                ]
              ],
              "status": 404,
              "status_text": ""
            }
          },
          "base_uri": "https://localhost:8080/",
          "height": 381
        },
        "id": "hTE2eQTFFz8I",
        "outputId": "6dc45d00-fb9c-472c-ec1f-6be5e05757f5"
      },
      "execution_count": 15,
      "outputs": [
        {
          "output_type": "execute_result",
          "data": {
            "text/plain": [
              "<IPython.core.display.HTML object>"
            ],
            "text/html": [
              "\n",
              "<video width=\"640\" height=\"360\" controls>\n",
              "  <source src=\"/content/downloaded_video.mp4\" type=\"video/mp4\">\n",
              "  Your browser does not support the video tag.\n",
              "</video>\n"
            ]
          },
          "metadata": {},
          "execution_count": 15
        }
      ]
    },
    {
      "cell_type": "markdown",
      "source": [],
      "metadata": {
        "id": "i3Onh2YCIuZS"
      }
    },
    {
      "cell_type": "code",
      "source": [
        "import os\n",
        "print(os.listdir('/content'))\n"
      ],
      "metadata": {
        "id": "P9zs39H8HrCP"
      },
      "execution_count": null,
      "outputs": []
    },
    {
      "cell_type": "code",
      "source": [
        "from yt_dlp import YoutubeDL\n",
        "\n",
        "# Function to get available formats for a video using yt-dlp\n",
        "def get_available_formats(url):\n",
        "    ydl_opts = {\n",
        "        'quiet': True,  # Suppress unnecessary output\n",
        "        'extract_flat': True,  # Only extract metadata (no download)\n",
        "    }\n",
        "\n",
        "    with YoutubeDL(ydl_opts) as ydl:\n",
        "        info_dict = ydl.extract_info(url, download=False)  # Extract metadata without downloading\n",
        "        formats = info_dict.get('formats', [])\n",
        "        return formats\n",
        "\n",
        "# Function to download a video using yt-dlp based on selected quality\n",
        "def download_video(url, quality_option=1, output_path=\"downloaded_video\"):\n",
        "    \"\"\"\n",
        "    Downloads a video from a URL using yt-dlp with selected quality.\n",
        "\n",
        "    Args:\n",
        "        url (str): The URL of the video to download.\n",
        "        quality_option (int): The quality preference for video download (1=720p, 2=1080p, 3=4K or higher).\n",
        "        output_path (str): The base name of the output file.\n",
        "    \"\"\"\n",
        "    # Get the available formats for the video\n",
        "    available_formats = get_available_formats(url)\n",
        "\n",
        "    # Define the quality options based on the user's selection\n",
        "    if quality_option == 1:  # 720p\n",
        "        preferred_formats = [f for f in available_formats if f.get('height') and f['height'] <= 720]\n",
        "        fallback_quality = 2  # Fallback to 1080p\n",
        "    elif quality_option == 2:  # 1080p\n",
        "        preferred_formats = [f for f in available_formats if f.get('height') and f['height'] <= 1080]\n",
        "        fallback_quality = None\n",
        "    elif quality_option == 3:  # 4K or higher\n",
        "        preferred_formats = [f for f in available_formats if f.get('height') and f['height'] >= 2160]\n",
        "        fallback_quality = 2  # Fallback to 1080p\n",
        "    else:\n",
        "        print(\"Invalid selection. Defaulting to 720p.\")\n",
        "        preferred_formats = [f for f in available_formats if f.get('height') and f['height'] <= 720]\n",
        "        fallback_quality = 2  # Fallback to 1080p\n",
        "\n",
        "    # Check if the preferred format is available\n",
        "    if preferred_formats:\n",
        "        # Select the best available preferred format (e.g., highest quality in the list)\n",
        "        best_format = max(preferred_formats, key=lambda x: x.get('height', 0))\n",
        "        format_id = best_format['format_id']\n",
        "        print(f\"Selected format: {best_format['height']}p\")\n",
        "    else:\n",
        "        print(f\"Desired quality not available. Retrying with fallback quality {fallback_quality}...\")\n",
        "        if fallback_quality == 2:  # Fallback to 1080p\n",
        "            preferred_formats = [f for f in available_formats if f.get('height') and f['height'] <= 1080]\n",
        "            if preferred_formats:\n",
        "                best_format = max(preferred_formats, key=lambda x: x.get('height', 0))\n",
        "                format_id = best_format['format_id']\n",
        "                print(f\"Selected fallback format: {best_format['height']}p\")\n",
        "            else:\n",
        "                print(\"No suitable formats found.\")\n",
        "                return\n",
        "        else:\n",
        "            print(\"No suitable formats found for the requested quality.\")\n",
        "            return\n",
        "\n",
        "    # Now, download the video with the selected format\n",
        "    ydl_opts = {\n",
        "        'outtmpl': f'{output_path}.%(ext)s',  # Output file template\n",
        "        'format': format_id,                 # Video quality format based on selected format\n",
        "        'merge_output_format': 'mp4',         # Merge video and audio into mp4\n",
        "    }\n",
        "\n",
        "    with YoutubeDL(ydl_opts) as ydl:\n",
        "        try:\n",
        "            ydl.download([url])  # Attempt to download using the selected format\n",
        "            print(\"Download successful!\")\n",
        "        except Exception as e:\n",
        "            print(f\"Error downloading with format {format_id}: {e}\")\n",
        "\n",
        "# Example Usage:\n",
        "video_url = input(\"Enter the video URL: \")  # Prompt user to input the video URL\n",
        "\n",
        "# Ask the user to select the quality option by number\n",
        "print(\"Select the video quality:\")\n",
        "print(\"1. 720p\")\n",
        "print(\"2. 1080p\")\n",
        "print(\"3. 4K or higher\")\n",
        "quality_choice = int(input(\"Enter your choice (1, 2, or 3): \"))\n",
        "\n",
        "# Call the function to download the video with the selected quality\n",
        "download_video(video_url, quality_option=quality_choice)\n"
      ],
      "metadata": {
        "id": "vqH6jtMpJs1P"
      },
      "execution_count": null,
      "outputs": []
    },
    {
      "cell_type": "code",
      "source": [
        "from yt_dlp import YoutubeDL\n",
        "\n",
        "# Function to get available formats for a video using yt-dlp\n",
        "def get_available_formats(url):\n",
        "    ydl_opts = {\n",
        "        'quiet': True,  # Suppress unnecessary output\n",
        "        'extract_flat': True,  # Only extract metadata (no download)\n",
        "    }\n",
        "\n",
        "    with YoutubeDL(ydl_opts) as ydl:\n",
        "        info_dict = ydl.extract_info(url, download=False)  # Extract metadata without downloading\n",
        "        formats = info_dict.get('formats', [])\n",
        "        return formats\n",
        "\n",
        "# Function to display available video quality options\n",
        "def get_video_quality_options(formats):\n",
        "    quality_options = {}\n",
        "\n",
        "    # Check available resolutions and add them to options\n",
        "    for f in formats:\n",
        "        height = f.get('height')\n",
        "        if height:\n",
        "            if height not in quality_options:\n",
        "                quality_options[height] = []\n",
        "\n",
        "            # Collect format ids for each resolution\n",
        "            quality_options[height].append(f)\n",
        "\n",
        "    # Return available options sorted by resolution\n",
        "    return sorted(quality_options.items(), key=lambda x: x[0], reverse=True)\n",
        "\n",
        "# Function to download a video using yt-dlp based on selected quality\n",
        "def download_video(url, selected_quality, output_path=\"downloaded_video\"):\n",
        "    \"\"\"\n",
        "    Downloads a video from a URL using yt-dlp with selected quality.\n",
        "\n",
        "    Args:\n",
        "        url (str): The URL of the video to download.\n",
        "        selected_quality (int): The height (resolution) to download.\n",
        "        output_path (str): The base name of the output file.\n",
        "    \"\"\"\n",
        "    # Get the available formats for the video\n",
        "    available_formats = get_available_formats(url)\n",
        "\n",
        "    # Find the selected quality format(s)\n",
        "    selected_formats = [f for f in available_formats if f.get('height') == selected_quality]\n",
        "\n",
        "    if selected_formats:\n",
        "        # Select the best available selected format (e.g., highest quality in the list)\n",
        "        best_format = max(selected_formats, key=lambda x: x.get('height', 0))\n",
        "        format_id = best_format['format_id']\n",
        "        print(f\"Selected format: {best_format['height']}p\")\n",
        "    else:\n",
        "        print(f\"Quality {selected_quality}p not available. No suitable formats found.\")\n",
        "        return\n",
        "\n",
        "    # Now, download the video with the selected format\n",
        "    ydl_opts = {\n",
        "        'outtmpl': f'{output_path}.%(ext)s',  # Output file template\n",
        "        'format': format_id,                 # Video quality format based on selected format\n",
        "        'merge_output_format': 'mp4',         # Merge video and audio into mp4\n",
        "    }\n",
        "\n",
        "    with YoutubeDL(ydl_opts) as ydl:\n",
        "        try:\n",
        "            ydl.download([url])  # Attempt to download using the selected format\n",
        "            print(\"Download successful!\")\n",
        "        except Exception as e:\n",
        "            print(f\"Error downloading with format {format_id}: {e}\")\n",
        "\n",
        "# Example Usage:\n",
        "video_url = input(\"Enter the video URL: \")  # Prompt user to input the video URL\n",
        "\n",
        "# Get available formats for the provided URL\n",
        "available_formats = get_available_formats(video_url)\n",
        "\n",
        "# Get and display available quality options to the user\n",
        "quality_options = get_video_quality_options(available_formats)\n",
        "\n",
        "# Display the available resolution options\n",
        "print(\"Select the video quality from the available options:\")\n",
        "\n",
        "quality_map = {}\n",
        "for i, (height, formats) in enumerate(quality_options, start=1):\n",
        "    print(f\"{i}. {height}p\")\n",
        "    quality_map[i] = height\n",
        "\n",
        "# Ask the user to select the quality option\n",
        "quality_choice = int(input(\"Enter your choice (1, 2, or 3): \"))\n",
        "\n",
        "# Get the selected quality resolution (height)\n",
        "selected_quality = quality_map.get(quality_choice)\n",
        "\n",
        "if selected_quality:\n",
        "    # Call the function to download the video with the selected quality\n",
        "    download_video(video_url, selected_quality)\n",
        "else:\n",
        "    print(\"Invalid selection. Exiting.\")\n"
      ],
      "metadata": {
        "id": "0zHwLMn4Kvr_"
      },
      "execution_count": null,
      "outputs": []
    },
    {
      "cell_type": "code",
      "source": [
        "## Smart Detection\n",
        "\n",
        "\n",
        "import os\n",
        "from yt_dlp import YoutubeDL\n",
        "\n",
        "# Function to get available formats for a video using yt-dlp\n",
        "def get_available_formats(url):\n",
        "    ydl_opts = {\n",
        "        'quiet': True,  # Suppress unnecessary output\n",
        "        'extract_flat': True,  # Only extract metadata (no download)\n",
        "    }\n",
        "\n",
        "    with YoutubeDL(ydl_opts) as ydl:\n",
        "        info_dict = ydl.extract_info(url, download=False)  # Extract metadata without downloading\n",
        "        formats = info_dict.get('formats', [])\n",
        "        return formats\n",
        "\n",
        "# Function to display available video quality options\n",
        "def get_video_quality_options(formats):\n",
        "    quality_options = {}\n",
        "\n",
        "    # Check available resolutions and add them to options\n",
        "    for f in formats:\n",
        "        height = f.get('height')\n",
        "        if height:\n",
        "            if height not in quality_options:\n",
        "                quality_options[height] = []\n",
        "\n",
        "            # Collect format ids for each resolution\n",
        "            quality_options[height].append(f)\n",
        "\n",
        "    # Return available options sorted by resolution\n",
        "    return sorted(quality_options.items(), key=lambda x: x[0], reverse=True)\n",
        "\n",
        "# Function to check and generate a unique file name if the file already exists\n",
        "def generate_unique_filename(base_filename):\n",
        "    counter = 2\n",
        "    new_filename = f\"{base_filename}_{counter}.mp4\"\n",
        "\n",
        "    # Check if the file already exists and increment the counter until a unique file name is found\n",
        "    while os.path.exists(new_filename):\n",
        "        counter += 1\n",
        "        new_filename = f\"{base_filename}_{counter}.mp4\"\n",
        "\n",
        "    return new_filename\n",
        "\n",
        "# Function to download a video using yt-dlp based on selected quality\n",
        "def download_video(url, selected_quality, output_path=\"downloaded_video\"):\n",
        "    \"\"\"\n",
        "    Downloads a video from a URL using yt-dlp with selected quality.\n",
        "\n",
        "    Args:\n",
        "        url (str): The URL of the video to download.\n",
        "        selected_quality (int): The height (resolution) to download.\n",
        "        output_path (str): The base name of the output file.\n",
        "    \"\"\"\n",
        "    # Get the available formats for the video\n",
        "    available_formats = get_available_formats(url)\n",
        "\n",
        "    # Find the selected quality format(s)\n",
        "    selected_formats = [f for f in available_formats if f.get('height') == selected_quality]\n",
        "\n",
        "    if selected_formats:\n",
        "        # Select the best available selected format (e.g., highest quality in the list)\n",
        "        best_format = max(selected_formats, key=lambda x: x.get('height', 0))\n",
        "        format_id = best_format['format_id']\n",
        "        print(f\"Selected format: {best_format['height']}p\")\n",
        "    else:\n",
        "        print(f\"Quality {selected_quality}p not available. No suitable formats found.\")\n",
        "        return\n",
        "\n",
        "    # Generate a unique filename if the file already exists\n",
        "    output_file = generate_unique_filename(output_path)\n",
        "\n",
        "    # Now, download the video with the selected format\n",
        "    ydl_opts = {\n",
        "        'outtmpl': f'{output_file}.%(ext)s',  # Output file template\n",
        "        'format': format_id,                 # Video quality format based on selected format\n",
        "        'merge_output_format': 'mp4',         # Merge video and audio into mp4\n",
        "    }\n",
        "\n",
        "    with YoutubeDL(ydl_opts) as ydl:\n",
        "        try:\n",
        "            ydl.download([url])  # Attempt to download using the selected format\n",
        "            print(f\"Download successful! File saved as {output_file}.mp4\")\n",
        "        except Exception as e:\n",
        "            print(f\"Error downloading with format {format_id}: {e}\")\n",
        "\n",
        "# Example Usage:\n",
        "video_url = input(\"Enter the video URL: \")  # Prompt user to input the video URL\n",
        "\n",
        "# Get available formats for the provided URL\n",
        "available_formats = get_available_formats(video_url)\n",
        "\n",
        "# Get and display available quality options to the user\n",
        "quality_options = get_video_quality_options(available_formats)\n",
        "\n",
        "# Display the available resolution options\n",
        "print(\"Select the video quality from the available options:\")\n",
        "\n",
        "quality_map = {}\n",
        "for i, (height, formats) in enumerate(quality_options, start=1):\n",
        "    print(f\"{i}. {height}p\")\n",
        "    quality_map[i] = height\n",
        "\n",
        "# Ask the user to select the quality option\n",
        "quality_choice = int(input(\"Enter your choice (1, 2, or 3): \"))\n",
        "\n",
        "# Get the selected quality resolution (height)\n",
        "selected_quality = quality_map.get(quality_choice)\n",
        "\n",
        "if selected_quality:\n",
        "    # Call the function to download the video with the selected quality\n",
        "    download_video(video_url, selected_quality)\n",
        "else:\n",
        "    print(\"Invalid selection. Exiting.\")\n"
      ],
      "metadata": {
        "id": "ogYktiDTLEbQ"
      },
      "execution_count": null,
      "outputs": []
    },
    {
      "cell_type": "markdown",
      "source": [
        "## 720p/1080p/>1080p quiet output\n",
        "\n",
        "\n",
        "Confirmed Working.\n",
        "\n",
        "\n",
        "*   Asks for url\n",
        "*   Detects abvailable video qualities\n",
        "*   Asks user which to download\n",
        "*   Downloads file to disk (Always download locally) `downloaded_video.mp4` <br>\n",
        "     Then use export code to download to local disk"
      ],
      "metadata": {
        "id": "KsxVIpKALdZF"
      }
    },
    {
      "cell_type": "code",
      "source": [
        "import os\n",
        "from yt_dlp import YoutubeDL\n",
        "import traceback\n",
        "\n",
        "def get_available_formats(url):\n",
        "    \"\"\"\n",
        "    Extract available video formats using yt-dlp's Python API with enhanced debugging.\n",
        "    Returns a list of formats with high-resolution video streams.\n",
        "    \"\"\"\n",
        "    ydl_opts = {\n",
        "        'quiet': False,\n",
        "        'no_warnings': False,\n",
        "        'extract_flat': False\n",
        "    }\n",
        "\n",
        "    with YoutubeDL(ydl_opts) as ydl:\n",
        "        try:\n",
        "            print(\"Attempting to extract video information...\")\n",
        "            info = ydl.extract_info(url, download=False)\n",
        "\n",
        "            if not info:\n",
        "                print(\"No video information retrieved\")\n",
        "                return []\n",
        "\n",
        "            formats = []\n",
        "            print(f\"\\nTotal formats found: {len(info.get('formats', []))}\")\n",
        "\n",
        "            for f in info['formats']:\n",
        "                # Modified condition: Include formats that have video and are 720p or higher\n",
        "                if (f.get('vcodec') != 'none' and\n",
        "                    f.get('height', 0) >= 720):\n",
        "\n",
        "                    formats.append({\n",
        "                        'format_id': f['format_id'],\n",
        "                        'resolution': f.get('height'),\n",
        "                        'vcodec': f['vcodec'],\n",
        "                        'acodec': f.get('acodec'),\n",
        "                        'filesize': f.get('filesize', 'Unknown'),\n",
        "                        'format_note': f.get('format_note', '')\n",
        "                    })\n",
        "\n",
        "            print(f\"\\nUsable formats found (720p and above): {len(formats)}\")\n",
        "            return formats\n",
        "\n",
        "        except Exception as e:\n",
        "            print(f\"\\nError occurred while extracting format information:\")\n",
        "            print(f\"Error message: {str(e)}\")\n",
        "            return []\n",
        "def get_video_quality_options(formats):\n",
        "    \"\"\"\n",
        "    Group available formats by resolution and sort them in descending order.\n",
        "    \"\"\"\n",
        "    quality_options = {}\n",
        "    for f in formats:\n",
        "        resolution = f.get('resolution')\n",
        "        if resolution not in quality_options:\n",
        "            quality_options[resolution] = []\n",
        "        quality_options[resolution].append(f)\n",
        "\n",
        "    return sorted(quality_options.items(), key=lambda x: x[0], reverse=True)\n",
        "\n",
        "def generate_unique_filename(base_filename):\n",
        "    \"\"\"\n",
        "    Generate a unique filename by appending a counter if the file already exists.\n",
        "    \"\"\"\n",
        "    if not os.path.exists(f\"{base_filename}.mp4\"):\n",
        "        return base_filename\n",
        "\n",
        "    counter = 2\n",
        "    while os.path.exists(f\"{base_filename}_{counter}.mp4\"):\n",
        "        counter += 1\n",
        "    return f\"{base_filename}_{counter}\"\n",
        "\n",
        "def download_video(url, selected_format, output_path=\"/content/downloaded_video\"):\n",
        "    \"\"\"\n",
        "    Download the video using selected format specifications.\n",
        "    Includes progress tracking and error handling.\n",
        "    \"\"\"\n",
        "    format_id = selected_format['format_id']\n",
        "    resolution = selected_format['resolution']\n",
        "\n",
        "    output_file = generate_unique_filename(output_path)\n",
        "\n",
        "    ydl_opts = {\n",
        "        'outtmpl': f'{output_file}.%(ext)s',\n",
        "        'format': f'{format_id}+bestaudio',  # This will automatically merge video and best audio\n",
        "        'merge_output_format': 'mp4',\n",
        "        'progress_hooks': [lambda d: print(f\"Download Progress: {d.get('_percent_str', 'calculating...')}\")],\n",
        "        'verbose': True\n",
        "    }\n",
        "\n",
        "    print(f\"\\nStarting download of {resolution}p video...\")\n",
        "    print(f\"Using format ID: {format_id} with best available audio\")\n",
        "\n",
        "    with YoutubeDL(ydl_opts) as ydl:\n",
        "        try:\n",
        "            ydl.download([url])\n",
        "            print(f\"\\nDownload successful! File saved as {output_file}.mp4\")\n",
        "            return True\n",
        "        except Exception as e:\n",
        "            print(f\"\\nError during download:\")\n",
        "            print(f\"Error message: {str(e)}\")\n",
        "            return False\n",
        "\n",
        "def validate_youtube_url(url):\n",
        "    \"\"\"\n",
        "    Validate the provided YouTube URL format.\n",
        "    \"\"\"\n",
        "    valid_patterns = [\n",
        "        'youtube.com/watch?v=',\n",
        "        'youtu.be/',\n",
        "        'm.youtube.com/watch?v='\n",
        "    ]\n",
        "    return any(pattern in url for pattern in valid_patterns)\n",
        "\n",
        "def main():\n",
        "    \"\"\"\n",
        "    Main function to orchestrate the video download process with enhanced error handling.\n",
        "    \"\"\"\n",
        "    print(\"YouTube Video Downloader for Colab\")\n",
        "    print(\"-\" * 40)\n",
        "\n",
        "    # Get video URL from user\n",
        "    video_url = input(\"Enter the YouTube video URL: \").strip()\n",
        "    if not video_url:\n",
        "        print(\"Error: URL cannot be empty\")\n",
        "        return\n",
        "\n",
        "    # Validate URL format\n",
        "    if not validate_youtube_url(video_url):\n",
        "        print(\"Error: Invalid YouTube URL format\")\n",
        "        print(\"Please provide a URL in one of these formats:\")\n",
        "        print(\"- https://www.youtube.com/watch?v=VIDEO_ID\")\n",
        "        print(\"- https://youtu.be/VIDEO_ID\")\n",
        "        return\n",
        "\n",
        "    print(\"\\nFetching available video formats...\")\n",
        "    print(\"This may take a few moments...\")\n",
        "    available_formats = get_available_formats(video_url)\n",
        "\n",
        "    if not available_formats:\n",
        "        print(\"\\nError: No suitable formats found. Please check:\")\n",
        "        print(\"1. The URL is correct and the video exists\")\n",
        "        print(\"2. The video is not age-restricted or private\")\n",
        "        print(\"3. YouTube's regional restrictions are not blocking access\")\n",
        "        print(\"4. Your internet connection is stable\")\n",
        "        return\n",
        "\n",
        "    # Get and display quality options\n",
        "    quality_options = get_video_quality_options(available_formats)\n",
        "    print(\"\\nAvailable video qualities:\")\n",
        "\n",
        "    quality_map = {}\n",
        "    for i, (resolution, formats) in enumerate(quality_options, start=1):\n",
        "        format_note = formats[0].get('format_note', '')\n",
        "        print(f\"{i}. {resolution}p {format_note}\")\n",
        "        quality_map[i] = formats[0]\n",
        "\n",
        "    # Get user's quality selection\n",
        "    try:\n",
        "        quality_choice = int(input(\"\\nSelect quality (enter number): \"))\n",
        "        if quality_choice not in quality_map:\n",
        "            print(\"Error: Invalid selection\")\n",
        "            return\n",
        "    except ValueError:\n",
        "        print(\"Error: Please enter a valid number\")\n",
        "        return\n",
        "\n",
        "    # Download the video\n",
        "    selected_format = quality_map[quality_choice]\n",
        "    download_video(video_url, selected_format)\n",
        "\n",
        "if __name__ == \"__main__\":\n",
        "    # Ensure yt-dlp is installed and up to date\n",
        "    try:\n",
        "        import yt_dlp\n",
        "    except ImportError:\n",
        "        print(\"Installing required package: yt-dlp\")\n",
        "        !pip install -U yt_dlp\n",
        "        import yt_dlp\n",
        "\n",
        "    main()"
      ],
      "metadata": {
        "id": "GGiiHEQ-Lc-u"
      },
      "execution_count": null,
      "outputs": []
    },
    {
      "cell_type": "markdown",
      "source": [
        "##Extract Audio from Video Downloaded\n",
        "output to `output_audio.mp3`"
      ],
      "metadata": {
        "id": "Ajb-1zjWWImY"
      }
    },
    {
      "cell_type": "code",
      "source": [
        "# Import necessary libraries\n",
        "import subprocess\n",
        "\n",
        "# Function to extract audio from the downloaded video\n",
        "def extract_audio(video_path, output_audio_path=\"output_audio.mp3\"):\n",
        "    \"\"\"\n",
        "    Extracts audio from a video file and saves it as an MP3 file using ffmpeg.\n",
        "\n",
        "    Args:\n",
        "        video_path (str): Path to the downloaded video file.\n",
        "        output_audio_path (str): Path to save the extracted audio file.\n",
        "    \"\"\"\n",
        "    # Command to extract audio using ffmpeg\n",
        "    command = [\n",
        "        'ffmpeg', '-i', video_path,  # Input video file\n",
        "        '-vn',  # Disable video (only extract audio)\n",
        "        '-acodec', 'mp3',  # Set audio codec to mp3\n",
        "        '-ab', '192k',  # Set audio bitrate\n",
        "        output_audio_path  # Output audio file path\n",
        "    ]\n",
        "\n",
        "    # Execute the ffmpeg command\n",
        "    subprocess.run(command, check=True)\n",
        "    print(f\"Audio extracted and saved as: {output_audio_path}\")\n",
        "\n",
        "# Example Usage\n",
        "# Assuming the video file is already downloaded as 'downloaded_video.mp4'\n",
        "video_path = 'downloaded_video.mp4'  # Path to the existing video file\n",
        "extract_audio(video_path, 'output_audio.mp3')  # Extract audio and save as mp3\n"
      ],
      "metadata": {
        "colab": {
          "base_uri": "https://localhost:8080/"
        },
        "id": "YsQYN5iAUApB",
        "outputId": "75cee07a-fd06-4413-8ee6-3d49fed4c788"
      },
      "execution_count": 45,
      "outputs": [
        {
          "output_type": "stream",
          "name": "stdout",
          "text": [
            "Audio extracted and saved as: output_audio.mp3\n"
          ]
        }
      ]
    },
    {
      "cell_type": "markdown",
      "source": [
        "##Download Files to Local Disk\n",
        "*   Select individual video file to download\n",
        "<br> **or** <br>\n",
        "*   Download all detected video files\n",
        "\n"
      ],
      "metadata": {
        "id": "u5v_f55VL6aO"
      }
    },
    {
      "cell_type": "code",
      "source": [
        "import os\n",
        "from google.colab import files\n",
        "\n",
        "# Function to list all files in the /content/ directory\n",
        "def list_downloaded_files(directory=\"/content/\"):\n",
        "    # List all files in the directory\n",
        "    files_in_directory = os.listdir(directory)\n",
        "    # Filter only mp4 files (or other video formats you are interested in)\n",
        "    downloaded_files = [f for f in files_in_directory if f.endswith('.mp4')]\n",
        "    return downloaded_files\n",
        "\n",
        "# Function to download a selected file\n",
        "def download_selected_file(file_name, directory=\"/content/\"):\n",
        "    file_path = os.path.join(directory, file_name)\n",
        "    if os.path.exists(file_path):\n",
        "        files.download(file_path)\n",
        "        print(f\"Download initiated for {file_name}\")\n",
        "    else:\n",
        "        print(\"File does not exist.\")\n",
        "\n",
        "# List all downloaded files\n",
        "downloaded_files = list_downloaded_files()\n",
        "\n",
        "# Check if there are any files available\n",
        "if downloaded_files:\n",
        "    print(\"Downloaded files in /content/:\")\n",
        "    for idx, file in enumerate(downloaded_files, 1):\n",
        "        print(f\"{idx}. {file}\")\n",
        "\n",
        "    # Ask the user to select a file\n",
        "    try:\n",
        "        user_choice = int(input(\"Enter the number of the file you want to download: \"))\n",
        "        if 1 <= user_choice <= len(downloaded_files):\n",
        "            selected_file = downloaded_files[user_choice - 1]\n",
        "            confirm = input(f\"Are you sure you want to download {selected_file}? (y/n): \").strip().lower()\n",
        "\n",
        "            if confirm == 'y':\n",
        "                # Download the selected file\n",
        "                download_selected_file(selected_file)\n",
        "            else:\n",
        "                print(\"Download cancelled.\")\n",
        "        else:\n",
        "            print(\"Invalid choice. Exiting.\")\n",
        "    except ValueError:\n",
        "        print(\"Invalid input. Exiting.\")\n",
        "else:\n",
        "    print(\"No files found in /content/ to download.\")\n"
      ],
      "metadata": {
        "id": "ALoQccqqL9iH"
      },
      "execution_count": null,
      "outputs": []
    },
    {
      "cell_type": "markdown",
      "source": [
        "##WIP"
      ],
      "metadata": {
        "id": "6ur35OEmQufp"
      }
    },
    {
      "cell_type": "markdown",
      "source": [
        "### Convert downloaded video to other qualities etc"
      ],
      "metadata": {
        "id": "rUZyr0KmQ0QH"
      }
    },
    {
      "cell_type": "code",
      "source": [
        "## Convert audio to text based on openai whisper module?"
      ],
      "metadata": {
        "id": "jibshaFZRQX5"
      },
      "execution_count": null,
      "outputs": []
    },
    {
      "cell_type": "code",
      "source": [
        "#Install required dependancies\n",
        "!pip install git+https://github.com/openai/whisper.git\n",
        "!pip install torch\n",
        "!pip install whisper\n"
      ],
      "metadata": {
        "id": "CK4tFBwISjH3"
      },
      "execution_count": null,
      "outputs": []
    },
    {
      "cell_type": "code",
      "source": [
        "import whisper\n",
        "import torch\n",
        "import logging\n",
        "from pathlib import Path\n",
        "import time\n",
        "\n",
        "# Configure logging\n",
        "logging.basicConfig(\n",
        "    level=logging.INFO,\n",
        "    format='%(asctime)s - %(levelname)s - %(message)s'\n",
        ")\n",
        "\n",
        "def transcribe_audio(audio_path, output_path=None, model_size=\"base\"):\n",
        "    \"\"\"\n",
        "    Transcribe audio file using OpenAI's Whisper model.\n",
        "\n",
        "    Args:\n",
        "        audio_path (str): Path to the input audio file\n",
        "        output_path (str, optional): Path to save the transcription\n",
        "        model_size (str): Size of the Whisper model to use\n",
        "                         (tiny, base, small, medium, large)\n",
        "\n",
        "    Returns:\n",
        "        str: Transcribed text\n",
        "    \"\"\"\n",
        "    try:\n",
        "        # Load the Whisper model\n",
        "        logging.info(f\"Loading Whisper model: {model_size}\")\n",
        "        model = whisper.load_model(model_size)\n",
        "\n",
        "        # Check if CUDA is available\n",
        "        device = \"cuda\" if torch.cuda.is_available() else \"cpu\"\n",
        "        logging.info(f\"Using device: {device}\")\n",
        "\n",
        "        # Start transcription\n",
        "        start_time = time.time()\n",
        "        logging.info(f\"Starting transcription of: {audio_path}\")\n",
        "\n",
        "        # Perform transcription\n",
        "        result = model.transcribe(audio_path)\n",
        "        transcribed_text = result[\"text\"]\n",
        "\n",
        "        # Calculate transcription time\n",
        "        transcription_time = time.time() - start_time\n",
        "        logging.info(f\"Transcription completed in {transcription_time:.2f} seconds\")\n",
        "\n",
        "        # Save transcription if output path is provided\n",
        "        if output_path:\n",
        "            output_path = Path(output_path)\n",
        "            output_path.write_text(transcribed_text, encoding='utf-8')\n",
        "            logging.info(f\"Transcription saved to: {output_path}\")\n",
        "\n",
        "        return transcribed_text\n",
        "\n",
        "    except Exception as e:\n",
        "        logging.error(f\"An error occurred during transcription: {str(e)}\")\n",
        "        raise\n",
        "\n",
        "def main():\n",
        "    # Define file paths\n",
        "    input_video = \"downloaded_video.mp4\"\n",
        "    output_audio = \"output_audio.mp3\"\n",
        "    transcription_output = \"transcription.txt\"\n",
        "\n",
        "    try:\n",
        "        # Transcribe the audio file\n",
        "        transcribed_text = transcribe_audio(\n",
        "            audio_path=output_audio,\n",
        "            output_path=transcription_output,\n",
        "            model_size=\"base\"  # You can change this to tiny, small, medium, or large\n",
        "        )\n",
        "\n",
        "        print(\"\\nTranscription Preview:\")\n",
        "        print(\"-\" * 50)\n",
        "        print(transcribed_text[:500] + \"...\" if len(transcribed_text) > 500 else transcribed_text)\n",
        "\n",
        "    except Exception as e:\n",
        "        logging.error(f\"Failed to process audio: {str(e)}\")\n",
        "        raise\n",
        "\n",
        "if __name__ == \"__main__\":\n",
        "    main()"
      ],
      "metadata": {
        "id": "2GdFqfFjSW0J"
      },
      "execution_count": null,
      "outputs": []
    },
    {
      "cell_type": "markdown",
      "source": [
        "### Batch Download from url with multiple **videos**"
      ],
      "metadata": {
        "id": "VZtZQQHRQzWo"
      }
    },
    {
      "cell_type": "markdown",
      "source": [
        "### Batch download via multiple unique url inputs"
      ],
      "metadata": {
        "id": "9bqppSUDQzzJ"
      }
    }
  ]
}