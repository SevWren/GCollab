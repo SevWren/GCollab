{
  "cells": [
    {
      "cell_type": "markdown",
      "metadata": {
        "id": "view-in-github",
        "colab_type": "text"
      },
      "source": [
        "<a href=\"https://colab.research.google.com/github/SevWren/GCollab/blob/main/Gemini_Api_Python_WorkingJan25.ipynb\" target=\"_parent\"><img src=\"https://colab.research.google.com/assets/colab-badge.svg\" alt=\"Open In Colab\"/></a>"
      ]
    },
    {
      "cell_type": "markdown",
      "metadata": {
        "id": "yob8kLEZeUzF"
      },
      "source": [
        "## Gemini: Connecting to Gemini\n",
        "\n",
        "The Gemini API allows you to connect to Google's most powerful multi-modal model. This example configures your API key and sends an example message to the API and prints a response.\n",
        "\n",
        "Before you start, visit https://aistudio.google.com/app/apikey to create an API key."
      ]
    },
    {
      "cell_type": "code",
      "execution_count": 20,
      "metadata": {
        "id": "eJ2d2cIhcmyw"
      },
      "outputs": [],
      "source": [
        "# @title Configure Gemini API key (Pull Gemini Key from Colab Secrets)\n",
        "\n",
        "import google.generativeai as genai\n",
        "from google.colab import userdata\n",
        "\n",
        "gemini_api_secret_name = 'GOOGLE_API_KEY_3'  # @param {type: \"string\"}\n",
        "\n",
        "try:\n",
        "  GOOGLE_API_KEY=userdata.get(gemini_api_secret_name)\n",
        "  genai.configure(api_key=GOOGLE_API_KEY)\n",
        "except userdata.SecretNotFoundError as e:\n",
        "   print(f'Secret not found\\n\\nThis expects you to create a secret named {gemini_api_secret_name} in Colab\\n\\nVisit https://aistudio.google.com/app/apikey to create an API key\\n\\nStore that in the secrets section on the left side of the notebook (key icon)\\n\\nName the secret {gemini_api_secret_name}')\n",
        "   raise e\n",
        "except userdata.NotebookAccessError as e:\n",
        "  print(f'You need to grant this notebook access to the {gemini_api_secret_name} secret in order for the notebook to access Gemini on your behalf.')\n",
        "  raise e\n",
        "except Exception as e:\n",
        "  print(f\"There was an unknown error. Ensure you have a secret {gemini_api_secret_name} stored in Colab and it's a valid key from https://aistudio.google.com/app/apikey\")\n",
        "  raise e"
      ]
    },
    {
      "cell_type": "code",
      "execution_count": 21,
      "metadata": {
        "id": "gM1IZNtDdZuq",
        "colab": {
          "base_uri": "https://localhost:8080/",
          "height": 35
        },
        "cellView": "form",
        "outputId": "83fbb396-daa4-4dec-e57c-928d25706b44"
      },
      "outputs": [
        {
          "output_type": "execute_result",
          "data": {
            "text/plain": [
              "'The typical speed of a European or African unladen swallow is about 24 miles per hour or 39 kilometers per hour.'"
            ],
            "application/vnd.google.colaboratory.intrinsic+json": {
              "type": "string"
            }
          },
          "metadata": {},
          "execution_count": 21
        }
      ],
      "source": [
        "# @title Connect to the API and send an example message\n",
        "\n",
        "text = 'What is the velocity of an unladen swallow?' # @param {type: \"string\"}\n",
        "\n",
        "model = genai.GenerativeModel('gemini-pro')\n",
        "chat = model.start_chat(history=[])\n",
        "\n",
        "response = chat.send_message(text)\n",
        "response.text"
      ]
    },
    {
      "cell_type": "markdown",
      "metadata": {
        "id": "PRrm9P6QDjrB"
      },
      "source": [
        "## Gemini: Creating a prompt\n",
        "\n",
        "This rich example shows how you can create and configure complex prompts for Gemini. It assumes that you've already created an API key at https://aistudio.google.com/app/apikey and added it to your Colab secrets as `GOOGLE_API_KEY` (see the \"Connecting to Gemini\" snippet)."
      ]
    },
    {
      "cell_type": "code",
      "execution_count": 47,
      "metadata": {
        "id": "fCVoMaiGDjrB",
        "colab": {
          "base_uri": "https://localhost:8080/",
          "height": 70
        },
        "outputId": "3c793a86-0ab5-4dfe-f9a6-3cccd47140b5"
      },
      "outputs": [
        {
          "output_type": "stream",
          "name": "stdout",
          "text": [
            "\u001b[32m(INFO: Custom safety settings applied)\u001b[0m\n"
          ]
        },
        {
          "output_type": "execute_result",
          "data": {
            "text/plain": [
              "\"123 is a number.  Is there anything you'd like me to do with it?  For example, do you want me to:\\n\\n* Add, subtract, multiply, or divide it by another number?\\n* Tell you its prime factorization?\\n* Convert it to another base?\\n* Something else?\\n\""
            ],
            "application/vnd.google.colaboratory.intrinsic+json": {
              "type": "string"
            }
          },
          "metadata": {},
          "execution_count": 47
        }
      ],
      "source": [
        "# @title Create a prompt\n",
        "import google.generativeai as genai\n",
        "from google.colab import userdata  #only required when runnign from colab notebook\n",
        "from google.generativeai.types import HarmCategory, HarmBlockThreshold\n",
        "\n",
        "#only required when runnign from colab notebook, import `google_api_key` secret\n",
        "api_key_name = 'GOOGLE_API_KEY' # @param {type: \"string\"}  #google colab notebook format\n",
        "\n",
        "prompt = '123' # @param {type: \"string\"}\n",
        "system_instructions = 'hi' # @param {type: \"string\"}\n",
        "model = 'gemini-1.5-flash' # @param {type: \"string\"} [\"gemini-1.0-pro\", \"gemini-1.5-pro\", \"gemini-1.5-flash\"]\n",
        "\n",
        "temperature = 0.8 # @param {type: \"slider\", min: 0, max: 2, step: 0.05}\n",
        "stop_sequence = '\\\\n\\\\n' # @param {type: \"string\"}\n",
        "\n",
        "# Safety Settings Parameters\n",
        "block_hate_speech = \"BLOCK_NONE\" # @param [\"BLOCK_NONE\", \"BLOCK_LOW_AND_ABOVE\", \"BLOCK_MEDIUM_AND_ABOVE\", \"BLOCK_ONLY_HIGH\"]\n",
        "block_sexually_explicit = \"BLOCK_NONE\" # @param [\"BLOCK_NONE\", \"BLOCK_LOW_AND_ABOVE\", \"BLOCK_MEDIUM_AND_ABOVE\", \"BLOCK_ONLY_HIGH\"]\n",
        "block_dangerous_content = \"BLOCK_NONE\" # @param [\"BLOCK_NONE\", \"BLOCK_LOW_AND_ABOVE\", \"BLOCK_MEDIUM_AND_ABOVE\", \"BLOCK_ONLY_HIGH\"]\n",
        "block_harassment = \"BLOCK_NONE\" # @param [\"BLOCK_NONE\", \"BLOCK_LOW_AND_ABOVE\", \"BLOCK_MEDIUM_AND_ABOVE\", \"BLOCK_ONLY_HIGH\"]\n",
        "\n",
        "if model == 'gemini-1.0-pro' and system_instructions is not None:\n",
        "  system_instructions = None\n",
        "  print('\\x1b[31m(WARNING: System instructions ignored, gemini-1.0-pro does not support system instructions)\\x1b[0m')\n",
        "\n",
        "if model == 'gemini-1.0-pro' and temperature > 1:\n",
        "  temperature = 1\n",
        "  print('\\x1b[34m(INFO: Temperature set to 1, gemini-1.0-pro does not support temperature > 1)\\x1b[0m')\n",
        "\n",
        "if system_instructions == '':\n",
        "  system_instructions = None\n",
        "\n",
        "api_key = userdata.get(api_key_name)  #google colab notebook format\n",
        "genai.configure(api_key=api_key)\n",
        "model = genai.GenerativeModel(model, system_instruction=system_instructions)\n",
        "\n",
        "# Mapping from string values to HarmBlockThreshold\n",
        "block_level_mapping = {\n",
        "    \"BLOCK_NONE\": HarmBlockThreshold.BLOCK_NONE,\n",
        "    \"BLOCK_LOW_AND_ABOVE\": HarmBlockThreshold.BLOCK_LOW_AND_ABOVE,\n",
        "    \"BLOCK_MEDIUM_AND_ABOVE\": HarmBlockThreshold.BLOCK_MEDIUM_AND_ABOVE,\n",
        "    \"BLOCK_ONLY_HIGH\": HarmBlockThreshold.BLOCK_ONLY_HIGH,\n",
        "}\n",
        "\n",
        "safety_settings = {\n",
        "    HarmCategory.HARM_CATEGORY_HATE_SPEECH: block_level_mapping[block_hate_speech],\n",
        "    HarmCategory.HARM_CATEGORY_HARASSMENT: block_level_mapping[block_harassment],\n",
        "    HarmCategory.HARM_CATEGORY_SEXUALLY_EXPLICIT: block_level_mapping[block_sexually_explicit],\n",
        "    HarmCategory.HARM_CATEGORY_DANGEROUS_CONTENT: block_level_mapping[block_dangerous_content],\n",
        "}\n",
        "\n",
        "print('\\x1b[32m(INFO: Custom safety settings applied)\\x1b[0m')\n",
        "\n",
        "response = model.generate_content(contents=[prompt], safety_settings=safety_settings)\n",
        "response.text"
      ]
    },
    {
      "cell_type": "markdown",
      "source": [
        "#Customized Script with safety settings\n",
        "[Working off of AI notes](https://aistudio.google.com/prompts/1OftWbhmntPMRytJCwmIRmq99Wz_RsVYm?model=gemini-1.5-flash)"
      ],
      "metadata": {
        "id": "Shdka1wqkryo"
      }
    },
    {
      "cell_type": "code",
      "source": [
        "# @title Create a prompt\n",
        "import google.generativeai as genai\n",
        "from google.colab import userdata  #only required when runnign from colab notebook\n",
        "from google.generativeai.types import HarmCategory, HarmBlockThreshold\n",
        "\n",
        "#only required when runnign from colab notebook, import `google_api_key` secret\n",
        "api_key_name = 'GOOGLE_API_KEY' # @param {type: \"string\"}  #google colab notebook format\n",
        "\n",
        "prompt = '123' # @param {type: \"string\"}\n",
        "system_instructions = 'hi' # @param {type: \"string\"}\n",
        "model = 'gemini-1.5-flash' # @param {type: \"string\"} [\"gemini-1.0-pro\", \"gemini-1.5-pro\", \"gemini-1.5-flash\"]\n",
        "\n",
        "temperature = 0.8 # @param {type: \"slider\", min: 0, max: 2, step: 0.05}\n",
        "stop_sequence = '\\\\n\\\\n' # @param {type: \"string\"}\n",
        "\n",
        "# Safety Settings Parameters\n",
        "#HarmCategory.HARM_CATEGORY_HATE_SPEECH: HarmBlockThreshold.BLOCK_NONE,\n",
        "block_hate_speech = \"BLOCK_NONE\" # @param [\"BLOCK_NONE\", \"BLOCK_LOW\", \"BLOCK_MEDIUM\", \"BLOCK_HIGH\"]\n",
        "block_sexually_explicit = \"BLOCK_NONE\" # @param [\"BLOCK_NONE\", \"BLOCK_LOW\", \"BLOCK_MEDIUM\", \"BLOCK_HIGH\"]\n",
        "block_dangerous_content = \"BLOCK_NONE\" # @param [\"BLOCK_NONE\", \"BLOCK_LOW\", \"BLOCK_MEDIUM\", \"BLOCK_HIGH\"]\n",
        "block_harassment = \"BLOCK_NONE\" # @param [\"BLOCK_NONE\", \"BLOCK_LOW\", \"BLOCK_MEDIUM\", \"BLOCK_HIGH\"]\n",
        "\n",
        "if model == 'gemini-1.0-pro' and system_instructions is not None:\n",
        "  system_instructions = None\n",
        "  print('\\x1b[31m(WARNING: System instructions ignored, gemini-1.0-pro does not support system instructions)\\x1b[0m')\n",
        "\n",
        "if model == 'gemini-1.0-pro' and temperature > 1:\n",
        "  temperature = 1\n",
        "  print('\\x1b[34m(INFO: Temperature set to 1, gemini-1.0-pro does not support temperature > 1)\\x1b[0m')\n",
        "\n",
        "if system_instructions == '':\n",
        "  system_instructions = None\n",
        "\n",
        "api_key = userdata.get(api_key_name)  #google colab notebook format\n",
        "genai.configure(api_key=api_key)\n",
        "model = genai.GenerativeModel(model, system_instruction=system_instructions)\n",
        "\n",
        "# Mapping from string values to HarmBlockThreshold\n",
        "block_level_mapping = {\n",
        "    \"BLOCK_NONE\": HarmBlockThreshold.BLOCK_NONE,\n",
        "    \"BLOCK_LOW\": HarmBlockThreshold.BLOCK_LOW,\n",
        "    \"BLOCK_MEDIUM\": HarmBlockThreshold.BLOCK_MEDIUM,\n",
        "    \"BLOCK_HIGH\": HarmBlockThreshold.BLOCK_HIGH\n",
        "}\n",
        "\n",
        "safety_settings = {\n",
        "    HarmCategory.HARM_CATEGORY_HATE_SPEECH: block_level_mapping[block_hate_speech],\n",
        "    HarmCategory.HARM_CATEGORY_HARASSMENT: block_level_mapping[block_harassment],\n",
        "    HarmCategory.HARM_CATEGORY_SEXUALLY_EXPLICIT: block_level_mapping[block_sexually_explicit],\n",
        "    HarmCategory.HARM_CATEGORY_DANGEROUS_CONTENT: block_level_mapping[block_dangerous_content],\n",
        "}\n",
        "\n",
        "print('\\x1b[32m(INFO: Custom safety settings applied)\\x1b[0m')\n",
        "\n",
        "response = model.generate_content(contents=[prompt], safety_settings=safety_settings)\n",
        "response.text"
      ],
      "metadata": {
        "colab": {
          "base_uri": "https://localhost:8080/",
          "height": 332
        },
        "id": "afhSrBsBkprt",
        "outputId": "403bf185-a5e4-4a07-c85f-43b1964ea93c"
      },
      "execution_count": 44,
      "outputs": [
        {
          "output_type": "error",
          "ename": "AttributeError",
          "evalue": "BLOCK_LOW",
          "traceback": [
            "\u001b[0;31m---------------------------------------------------------------------------\u001b[0m",
            "\u001b[0;31mAttributeError\u001b[0m                            Traceback (most recent call last)",
            "\u001b[0;32m<ipython-input-44-382e0eb17038>\u001b[0m in \u001b[0;36m<cell line: 0>\u001b[0;34m()\u001b[0m\n\u001b[1;32m     39\u001b[0m block_level_mapping = {\n\u001b[1;32m     40\u001b[0m     \u001b[0;34m\"BLOCK_NONE\"\u001b[0m\u001b[0;34m:\u001b[0m \u001b[0mHarmBlockThreshold\u001b[0m\u001b[0;34m.\u001b[0m\u001b[0mBLOCK_NONE\u001b[0m\u001b[0;34m,\u001b[0m\u001b[0;34m\u001b[0m\u001b[0;34m\u001b[0m\u001b[0m\n\u001b[0;32m---> 41\u001b[0;31m     \u001b[0;34m\"BLOCK_LOW\"\u001b[0m\u001b[0;34m:\u001b[0m \u001b[0mHarmBlockThreshold\u001b[0m\u001b[0;34m.\u001b[0m\u001b[0mBLOCK_LOW\u001b[0m\u001b[0;34m,\u001b[0m\u001b[0;34m\u001b[0m\u001b[0;34m\u001b[0m\u001b[0m\n\u001b[0m\u001b[1;32m     42\u001b[0m     \u001b[0;34m\"BLOCK_MEDIUM\"\u001b[0m\u001b[0;34m:\u001b[0m \u001b[0mHarmBlockThreshold\u001b[0m\u001b[0;34m.\u001b[0m\u001b[0mBLOCK_MEDIUM\u001b[0m\u001b[0;34m,\u001b[0m\u001b[0;34m\u001b[0m\u001b[0;34m\u001b[0m\u001b[0m\n\u001b[1;32m     43\u001b[0m     \u001b[0;34m\"BLOCK_HIGH\"\u001b[0m\u001b[0;34m:\u001b[0m \u001b[0mHarmBlockThreshold\u001b[0m\u001b[0;34m.\u001b[0m\u001b[0mBLOCK_HIGH\u001b[0m\u001b[0;34m\u001b[0m\u001b[0;34m\u001b[0m\u001b[0m\n",
            "\u001b[0;32m/usr/lib/python3.11/enum.py\u001b[0m in \u001b[0;36m__getattr__\u001b[0;34m(cls, name)\u001b[0m\n\u001b[1;32m    784\u001b[0m             \u001b[0;32mreturn\u001b[0m \u001b[0mcls\u001b[0m\u001b[0;34m.\u001b[0m\u001b[0m_member_map_\u001b[0m\u001b[0;34m[\u001b[0m\u001b[0mname\u001b[0m\u001b[0;34m]\u001b[0m\u001b[0;34m\u001b[0m\u001b[0;34m\u001b[0m\u001b[0m\n\u001b[1;32m    785\u001b[0m         \u001b[0;32mexcept\u001b[0m \u001b[0mKeyError\u001b[0m\u001b[0;34m:\u001b[0m\u001b[0;34m\u001b[0m\u001b[0;34m\u001b[0m\u001b[0m\n\u001b[0;32m--> 786\u001b[0;31m             \u001b[0;32mraise\u001b[0m \u001b[0mAttributeError\u001b[0m\u001b[0;34m(\u001b[0m\u001b[0mname\u001b[0m\u001b[0;34m)\u001b[0m \u001b[0;32mfrom\u001b[0m \u001b[0;32mNone\u001b[0m\u001b[0;34m\u001b[0m\u001b[0;34m\u001b[0m\u001b[0m\n\u001b[0m\u001b[1;32m    787\u001b[0m \u001b[0;34m\u001b[0m\u001b[0m\n\u001b[1;32m    788\u001b[0m     \u001b[0;32mdef\u001b[0m \u001b[0m__getitem__\u001b[0m\u001b[0;34m(\u001b[0m\u001b[0mcls\u001b[0m\u001b[0;34m,\u001b[0m \u001b[0mname\u001b[0m\u001b[0;34m)\u001b[0m\u001b[0;34m:\u001b[0m\u001b[0;34m\u001b[0m\u001b[0;34m\u001b[0m\u001b[0m\n",
            "\u001b[0;31mAttributeError\u001b[0m: BLOCK_LOW"
          ]
        }
      ]
    }
  ],
  "metadata": {
    "colab": {
      "provenance": [],
      "include_colab_link": true
    },
    "kernelspec": {
      "display_name": "Python 3",
      "name": "python3"
    },
    "language_info": {
      "name": "python"
    }
  },
  "nbformat": 4,
  "nbformat_minor": 0
}